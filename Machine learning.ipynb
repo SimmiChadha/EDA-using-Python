{
 "cells": [
  {
   "cell_type": "code",
   "execution_count": 1,
   "id": "098461fb",
   "metadata": {},
   "outputs": [],
   "source": [
    "import pandas as pd\n",
    "import numpy as np"
   ]
  },
  {
   "cell_type": "code",
   "execution_count": 2,
   "id": "99210867",
   "metadata": {},
   "outputs": [],
   "source": [
    "df=pd.read_csv(r\"C:/Users/user/Downloads/upvote_train.csv\")"
   ]
  },
  {
   "cell_type": "code",
   "execution_count": 3,
   "id": "978d7c91",
   "metadata": {},
   "outputs": [
    {
     "data": {
      "text/html": [
       "<div>\n",
       "<style scoped>\n",
       "    .dataframe tbody tr th:only-of-type {\n",
       "        vertical-align: middle;\n",
       "    }\n",
       "\n",
       "    .dataframe tbody tr th {\n",
       "        vertical-align: top;\n",
       "    }\n",
       "\n",
       "    .dataframe thead th {\n",
       "        text-align: right;\n",
       "    }\n",
       "</style>\n",
       "<table border=\"1\" class=\"dataframe\">\n",
       "  <thead>\n",
       "    <tr style=\"text-align: right;\">\n",
       "      <th></th>\n",
       "      <th>ID</th>\n",
       "      <th>Tag</th>\n",
       "      <th>Reputation</th>\n",
       "      <th>Answers</th>\n",
       "      <th>Username</th>\n",
       "      <th>Views</th>\n",
       "      <th>Upvotes</th>\n",
       "    </tr>\n",
       "  </thead>\n",
       "  <tbody>\n",
       "    <tr>\n",
       "      <th>0</th>\n",
       "      <td>52664</td>\n",
       "      <td>a</td>\n",
       "      <td>3942.0</td>\n",
       "      <td>2.0</td>\n",
       "      <td>155623</td>\n",
       "      <td>7855.0</td>\n",
       "      <td>42.0</td>\n",
       "    </tr>\n",
       "    <tr>\n",
       "      <th>1</th>\n",
       "      <td>327662</td>\n",
       "      <td>a</td>\n",
       "      <td>26046.0</td>\n",
       "      <td>12.0</td>\n",
       "      <td>21781</td>\n",
       "      <td>55801.0</td>\n",
       "      <td>1175.0</td>\n",
       "    </tr>\n",
       "    <tr>\n",
       "      <th>2</th>\n",
       "      <td>468453</td>\n",
       "      <td>c</td>\n",
       "      <td>1358.0</td>\n",
       "      <td>4.0</td>\n",
       "      <td>56177</td>\n",
       "      <td>8067.0</td>\n",
       "      <td>60.0</td>\n",
       "    </tr>\n",
       "    <tr>\n",
       "      <th>3</th>\n",
       "      <td>96996</td>\n",
       "      <td>a</td>\n",
       "      <td>264.0</td>\n",
       "      <td>3.0</td>\n",
       "      <td>168793</td>\n",
       "      <td>27064.0</td>\n",
       "      <td>9.0</td>\n",
       "    </tr>\n",
       "    <tr>\n",
       "      <th>4</th>\n",
       "      <td>131465</td>\n",
       "      <td>c</td>\n",
       "      <td>4271.0</td>\n",
       "      <td>4.0</td>\n",
       "      <td>112223</td>\n",
       "      <td>13986.0</td>\n",
       "      <td>83.0</td>\n",
       "    </tr>\n",
       "  </tbody>\n",
       "</table>\n",
       "</div>"
      ],
      "text/plain": [
       "       ID Tag  Reputation  Answers  Username    Views  Upvotes\n",
       "0   52664   a      3942.0      2.0    155623   7855.0     42.0\n",
       "1  327662   a     26046.0     12.0     21781  55801.0   1175.0\n",
       "2  468453   c      1358.0      4.0     56177   8067.0     60.0\n",
       "3   96996   a       264.0      3.0    168793  27064.0      9.0\n",
       "4  131465   c      4271.0      4.0    112223  13986.0     83.0"
      ]
     },
     "execution_count": 3,
     "metadata": {},
     "output_type": "execute_result"
    }
   ],
   "source": [
    "df.head()"
   ]
  },
  {
   "cell_type": "code",
   "execution_count": 4,
   "id": "4b77fe9b",
   "metadata": {},
   "outputs": [
    {
     "data": {
      "text/plain": [
       "(330045, 7)"
      ]
     },
     "execution_count": 4,
     "metadata": {},
     "output_type": "execute_result"
    }
   ],
   "source": [
    "df.shape"
   ]
  },
  {
   "cell_type": "code",
   "execution_count": 5,
   "id": "2d7612a2",
   "metadata": {},
   "outputs": [],
   "source": [
    "# Transform the tag variable into numerical\n",
    "from sklearn.preprocessing import LabelEncoder\n",
    "le=LabelEncoder()"
   ]
  },
  {
   "cell_type": "code",
   "execution_count": 6,
   "id": "7ecb2de5",
   "metadata": {},
   "outputs": [],
   "source": [
    "df['Tag']=le.fit_transform(df['Tag'])"
   ]
  },
  {
   "cell_type": "code",
   "execution_count": 7,
   "id": "d38c0153",
   "metadata": {},
   "outputs": [],
   "source": [
    "df_x=df.iloc[:,1:6]\n",
    "df_y=df.iloc[:,-1]"
   ]
  },
  {
   "cell_type": "code",
   "execution_count": 8,
   "id": "5a7a45d0",
   "metadata": {},
   "outputs": [
    {
     "data": {
      "text/plain": [
       "0           42.0\n",
       "1         1175.0\n",
       "2           60.0\n",
       "3            9.0\n",
       "4           83.0\n",
       "           ...  \n",
       "330040       0.0\n",
       "330041      73.0\n",
       "330042      15.0\n",
       "330043       3.0\n",
       "330044      37.0\n",
       "Name: Upvotes, Length: 330045, dtype: float64"
      ]
     },
     "execution_count": 8,
     "metadata": {},
     "output_type": "execute_result"
    }
   ],
   "source": [
    "df_y"
   ]
  },
  {
   "cell_type": "code",
   "execution_count": 9,
   "id": "9574b9fc",
   "metadata": {},
   "outputs": [],
   "source": [
    "from sklearn.model_selection import train_test_split"
   ]
  },
  {
   "cell_type": "code",
   "execution_count": 10,
   "id": "cb6de24f",
   "metadata": {},
   "outputs": [],
   "source": [
    "df_xtrain,df_xtest,df_ytrain,df_ytest=train_test_split(df_x,df_y,test_size=0.2,random_state=101)"
   ]
  },
  {
   "cell_type": "code",
   "execution_count": 11,
   "id": "44b7cc33",
   "metadata": {},
   "outputs": [
    {
     "data": {
      "text/plain": [
       "((264036, 5), (66009, 5), (264036,), (66009,))"
      ]
     },
     "execution_count": 11,
     "metadata": {},
     "output_type": "execute_result"
    }
   ],
   "source": [
    "df_xtrain.shape,df_xtest.shape,df_ytrain.shape,df_ytest.shape"
   ]
  },
  {
   "cell_type": "code",
   "execution_count": 12,
   "id": "64cbfcae",
   "metadata": {},
   "outputs": [],
   "source": [
    "test=pd.read_csv(\"C:/Users/user/Downloads/upvote_test.csv\")"
   ]
  },
  {
   "cell_type": "code",
   "execution_count": 13,
   "id": "2274afab",
   "metadata": {},
   "outputs": [],
   "source": [
    "test['Tag']=le.fit_transform(test['Tag'])"
   ]
  },
  {
   "cell_type": "code",
   "execution_count": 14,
   "id": "cb1927e8",
   "metadata": {},
   "outputs": [
    {
     "data": {
      "text/html": [
       "<div>\n",
       "<style scoped>\n",
       "    .dataframe tbody tr th:only-of-type {\n",
       "        vertical-align: middle;\n",
       "    }\n",
       "\n",
       "    .dataframe tbody tr th {\n",
       "        vertical-align: top;\n",
       "    }\n",
       "\n",
       "    .dataframe thead th {\n",
       "        text-align: right;\n",
       "    }\n",
       "</style>\n",
       "<table border=\"1\" class=\"dataframe\">\n",
       "  <thead>\n",
       "    <tr style=\"text-align: right;\">\n",
       "      <th></th>\n",
       "      <th>Tag</th>\n",
       "      <th>Reputation</th>\n",
       "      <th>Answers</th>\n",
       "      <th>Username</th>\n",
       "      <th>Views</th>\n",
       "    </tr>\n",
       "  </thead>\n",
       "  <tbody>\n",
       "    <tr>\n",
       "      <th>0</th>\n",
       "      <td>0</td>\n",
       "      <td>5645.0</td>\n",
       "      <td>3.0</td>\n",
       "      <td>50652</td>\n",
       "      <td>33200.0</td>\n",
       "    </tr>\n",
       "    <tr>\n",
       "      <th>1</th>\n",
       "      <td>1</td>\n",
       "      <td>24511.0</td>\n",
       "      <td>6.0</td>\n",
       "      <td>37685</td>\n",
       "      <td>2730.0</td>\n",
       "    </tr>\n",
       "    <tr>\n",
       "      <th>2</th>\n",
       "      <td>3</td>\n",
       "      <td>927.0</td>\n",
       "      <td>1.0</td>\n",
       "      <td>135293</td>\n",
       "      <td>21167.0</td>\n",
       "    </tr>\n",
       "    <tr>\n",
       "      <th>3</th>\n",
       "      <td>3</td>\n",
       "      <td>21.0</td>\n",
       "      <td>6.0</td>\n",
       "      <td>166998</td>\n",
       "      <td>18528.0</td>\n",
       "    </tr>\n",
       "    <tr>\n",
       "      <th>4</th>\n",
       "      <td>3</td>\n",
       "      <td>4475.0</td>\n",
       "      <td>10.0</td>\n",
       "      <td>53504</td>\n",
       "      <td>57240.0</td>\n",
       "    </tr>\n",
       "    <tr>\n",
       "      <th>...</th>\n",
       "      <td>...</td>\n",
       "      <td>...</td>\n",
       "      <td>...</td>\n",
       "      <td>...</td>\n",
       "      <td>...</td>\n",
       "    </tr>\n",
       "    <tr>\n",
       "      <th>141443</th>\n",
       "      <td>4</td>\n",
       "      <td>4681.0</td>\n",
       "      <td>4.0</td>\n",
       "      <td>152060</td>\n",
       "      <td>2469.0</td>\n",
       "    </tr>\n",
       "    <tr>\n",
       "      <th>141444</th>\n",
       "      <td>4</td>\n",
       "      <td>7782.0</td>\n",
       "      <td>3.0</td>\n",
       "      <td>89235</td>\n",
       "      <td>18998.0</td>\n",
       "    </tr>\n",
       "    <tr>\n",
       "      <th>141445</th>\n",
       "      <td>6</td>\n",
       "      <td>435.0</td>\n",
       "      <td>5.0</td>\n",
       "      <td>119788</td>\n",
       "      <td>57048.0</td>\n",
       "    </tr>\n",
       "    <tr>\n",
       "      <th>141446</th>\n",
       "      <td>5</td>\n",
       "      <td>176.0</td>\n",
       "      <td>3.0</td>\n",
       "      <td>86824</td>\n",
       "      <td>10193.0</td>\n",
       "    </tr>\n",
       "    <tr>\n",
       "      <th>141447</th>\n",
       "      <td>0</td>\n",
       "      <td>648.0</td>\n",
       "      <td>2.0</td>\n",
       "      <td>102240</td>\n",
       "      <td>12785.0</td>\n",
       "    </tr>\n",
       "  </tbody>\n",
       "</table>\n",
       "<p>141448 rows × 5 columns</p>\n",
       "</div>"
      ],
      "text/plain": [
       "        Tag  Reputation  Answers  Username    Views\n",
       "0         0      5645.0      3.0     50652  33200.0\n",
       "1         1     24511.0      6.0     37685   2730.0\n",
       "2         3       927.0      1.0    135293  21167.0\n",
       "3         3        21.0      6.0    166998  18528.0\n",
       "4         3      4475.0     10.0     53504  57240.0\n",
       "...     ...         ...      ...       ...      ...\n",
       "141443    4      4681.0      4.0    152060   2469.0\n",
       "141444    4      7782.0      3.0     89235  18998.0\n",
       "141445    6       435.0      5.0    119788  57048.0\n",
       "141446    5       176.0      3.0     86824  10193.0\n",
       "141447    0       648.0      2.0    102240  12785.0\n",
       "\n",
       "[141448 rows x 5 columns]"
      ]
     },
     "execution_count": 14,
     "metadata": {},
     "output_type": "execute_result"
    }
   ],
   "source": [
    "test_x=test.iloc[:,1:]\n",
    "test_x"
   ]
  },
  {
   "cell_type": "code",
   "execution_count": 15,
   "id": "ce7cdb12",
   "metadata": {},
   "outputs": [],
   "source": [
    "from sklearn import linear_model\n",
    "ln=linear_model.LinearRegression()"
   ]
  },
  {
   "cell_type": "code",
   "execution_count": 18,
   "id": "93b04997",
   "metadata": {},
   "outputs": [],
   "source": [
    "p1=ln.predict(df_xtest)"
   ]
  },
  {
   "cell_type": "code",
   "execution_count": 19,
   "id": "a31d0bc9",
   "metadata": {},
   "outputs": [
    {
     "data": {
      "text/plain": [
       "0.2693094638108968"
      ]
     },
     "execution_count": 19,
     "metadata": {},
     "output_type": "execute_result"
    }
   ],
   "source": [
    "RSQ1=ln.score(df_xtrain,df_ytrain)\n",
    "RSQ1"
   ]
  },
  {
   "cell_type": "code",
   "execution_count": 20,
   "id": "c91f5904",
   "metadata": {},
   "outputs": [
    {
     "data": {
      "text/plain": [
       "0.26929839404202593"
      ]
     },
     "execution_count": 20,
     "metadata": {},
     "output_type": "execute_result"
    }
   ],
   "source": [
    "ADJRSQ1=1-(((1-RSQ1)*(264036-1))/(264036-4-1))\n",
    "ADJRSQ1"
   ]
  },
  {
   "cell_type": "code",
   "execution_count": 21,
   "id": "28dff72d",
   "metadata": {},
   "outputs": [],
   "source": [
    "from sklearn import metrics\n",
    "from sklearn.metrics import mean_squared_error,r2_score"
   ]
  },
  {
   "cell_type": "code",
   "execution_count": 22,
   "id": "794a5251",
   "metadata": {},
   "outputs": [
    {
     "data": {
      "text/plain": [
       "12758227.66876462"
      ]
     },
     "execution_count": 22,
     "metadata": {},
     "output_type": "execute_result"
    }
   ],
   "source": [
    "df_mse1=metrics.mean_squared_error(df_ytest,p1)\n",
    "df_mse1"
   ]
  },
  {
   "cell_type": "code",
   "execution_count": 23,
   "id": "71ed5f12",
   "metadata": {},
   "outputs": [
    {
     "data": {
      "text/plain": [
       "0.2693094638108968"
      ]
     },
     "execution_count": 23,
     "metadata": {},
     "output_type": "execute_result"
    }
   ],
   "source": [
    "ln.score(df_xtrain,df_ytrain)"
   ]
  },
  {
   "cell_type": "code",
   "execution_count": 24,
   "id": "67cb3a3a",
   "metadata": {},
   "outputs": [
    {
     "data": {
      "text/plain": [
       "ID            -0.000298\n",
       "Tag            0.337230\n",
       "Reputation    11.230027\n",
       "Answers        3.380169\n",
       "Username       0.142088\n",
       "Views         14.370704\n",
       "Upvotes       74.249689\n",
       "dtype: float64"
      ]
     },
     "execution_count": 24,
     "metadata": {},
     "output_type": "execute_result"
    }
   ],
   "source": [
    "df.skew()"
   ]
  },
  {
   "cell_type": "code",
   "execution_count": null,
   "id": "f002096c",
   "metadata": {},
   "outputs": [],
   "source": []
  },
  {
   "cell_type": "markdown",
   "id": "488ef08e",
   "metadata": {},
   "source": [
    "# Model"
   ]
  },
  {
   "cell_type": "code",
   "execution_count": 25,
   "id": "7bc60d1f",
   "metadata": {},
   "outputs": [
    {
     "data": {
      "text/plain": [
       "LinearRegression()"
      ]
     },
     "execution_count": 25,
     "metadata": {},
     "output_type": "execute_result"
    }
   ],
   "source": [
    "ln.fit(df_x,df_y)"
   ]
  },
  {
   "cell_type": "code",
   "execution_count": 26,
   "id": "64f9aeda",
   "metadata": {},
   "outputs": [],
   "source": [
    "p1=ln.predict(test_x)"
   ]
  },
  {
   "cell_type": "code",
   "execution_count": 27,
   "id": "772dc832",
   "metadata": {},
   "outputs": [],
   "source": [
    "import matplotlib.pyplot as plt"
   ]
  },
  {
   "cell_type": "code",
   "execution_count": 28,
   "id": "bd305b39",
   "metadata": {},
   "outputs": [
    {
     "data": {
      "text/plain": [
       "<AxesSubplot:>"
      ]
     },
     "execution_count": 28,
     "metadata": {},
     "output_type": "execute_result"
    },
    {
     "data": {
      "image/png": "[encoded data removed]",
      "text/plain": [
       "<Figure size 432x288 with 1 Axes>"
      ]
     },
     "metadata": {
      "needs_background": "light"
     },
     "output_type": "display_data"
    }
   ],
   "source": [
    "df.Upvotes.hist(bins=50)"
   ]
  },
  {
   "cell_type": "code",
   "execution_count": 29,
   "id": "16e70ce8",
   "metadata": {},
   "outputs": [
    {
     "data": {
      "text/plain": [
       "count    330045.000000\n",
       "mean        337.505358\n",
       "std        3592.441135\n",
       "min           0.000000\n",
       "25%           8.000000\n",
       "50%          28.000000\n",
       "75%         107.000000\n",
       "max      615278.000000\n",
       "Name: Upvotes, dtype: float64"
      ]
     },
     "execution_count": 29,
     "metadata": {},
     "output_type": "execute_result"
    }
   ],
   "source": [
    "df.Upvotes.describe()"
   ]
  },
  {
   "cell_type": "code",
   "execution_count": 30,
   "id": "2a8fdf94",
   "metadata": {},
   "outputs": [],
   "source": [
    "#TREAT SKEWNESS\n",
    "#df.Upvotes=np.sqrt(df.Upvotes)"
   ]
  },
  {
   "cell_type": "code",
   "execution_count": null,
   "id": "d3e2e775",
   "metadata": {},
   "outputs": [],
   "source": []
  },
  {
   "cell_type": "markdown",
   "id": "ce0bac4e",
   "metadata": {},
   "source": [
    "# Treat Outliers"
   ]
  },
  {
   "cell_type": "code",
   "execution_count": 31,
   "id": "d4aad07f",
   "metadata": {},
   "outputs": [
    {
     "data": {
      "text/plain": [
       "99.0"
      ]
     },
     "execution_count": 31,
     "metadata": {},
     "output_type": "execute_result"
    }
   ],
   "source": [
    "IQR1=df.Upvotes.quantile(0.75)-df.Upvotes.quantile(0.25)\n",
    "IQR1"
   ]
  },
  {
   "cell_type": "code",
   "execution_count": 32,
   "id": "f1d2e945",
   "metadata": {},
   "outputs": [],
   "source": [
    "Q1=df.Upvotes.quantile(0.25)-(3*IQR1)\n",
    "Q3=df.Upvotes.quantile(0.75)+(3*IQR1)"
   ]
  },
  {
   "cell_type": "code",
   "execution_count": 33,
   "id": "24375ba9",
   "metadata": {},
   "outputs": [
    {
     "name": "stdout",
     "output_type": "stream",
     "text": [
      "-289.0 404.0\n"
     ]
    }
   ],
   "source": [
    "print(Q1,Q3)"
   ]
  },
  {
   "cell_type": "code",
   "execution_count": 34,
   "id": "456a5874",
   "metadata": {},
   "outputs": [],
   "source": [
    "df.loc[df['Upvotes']>404,'Upvotes'] = 404\n"
   ]
  },
  {
   "cell_type": "code",
   "execution_count": 35,
   "id": "660afc3e",
   "metadata": {},
   "outputs": [
    {
     "data": {
      "text/plain": [
       "count    3.300450e+05\n",
       "mean     7.773147e+03\n",
       "std      2.706141e+04\n",
       "min      0.000000e+00\n",
       "25%      2.820000e+02\n",
       "50%      1.236000e+03\n",
       "75%      5.118000e+03\n",
       "max      1.042428e+06\n",
       "Name: Reputation, dtype: float64"
      ]
     },
     "execution_count": 35,
     "metadata": {},
     "output_type": "execute_result"
    }
   ],
   "source": [
    "df.Reputation.describe()"
   ]
  },
  {
   "cell_type": "code",
   "execution_count": 36,
   "id": "c23dbe92",
   "metadata": {},
   "outputs": [
    {
     "data": {
      "text/plain": [
       "<AxesSubplot:>"
      ]
     },
     "execution_count": 36,
     "metadata": {},
     "output_type": "execute_result"
    },
    {
     "data": {
      "image/png": "[encoded data removed]",
      "text/plain": [
       "<Figure size 432x288 with 1 Axes>"
      ]
     },
     "metadata": {
      "needs_background": "light"
     },
     "output_type": "display_data"
    }
   ],
   "source": [
    "df.Reputation.hist(bins=50)"
   ]
  },
  {
   "cell_type": "code",
   "execution_count": 37,
   "id": "171430a5",
   "metadata": {},
   "outputs": [
    {
     "data": {
      "text/plain": [
       "4836.0"
      ]
     },
     "execution_count": 37,
     "metadata": {},
     "output_type": "execute_result"
    }
   ],
   "source": [
    "IQR2=df.Reputation.quantile(0.75)-df.Reputation.quantile(0.25)\n",
    "IQR2"
   ]
  },
  {
   "cell_type": "code",
   "execution_count": 38,
   "id": "706c35f5",
   "metadata": {},
   "outputs": [],
   "source": [
    "Q11=df.Reputation.quantile(0.25)-(3*IQR2)\n",
    "Q31=df.Reputation.quantile(0.75)+(3*IQR2)"
   ]
  },
  {
   "cell_type": "code",
   "execution_count": 39,
   "id": "f65b50f8",
   "metadata": {},
   "outputs": [
    {
     "name": "stdout",
     "output_type": "stream",
     "text": [
      "-14226.0 19626.0\n"
     ]
    }
   ],
   "source": [
    "print(Q11,Q31)"
   ]
  },
  {
   "cell_type": "code",
   "execution_count": 40,
   "id": "b3cf4778",
   "metadata": {},
   "outputs": [],
   "source": [
    "df.loc[df['Reputation']>19626,'Reputation'] =19626"
   ]
  },
  {
   "cell_type": "code",
   "execution_count": 47,
   "id": "46dff190",
   "metadata": {},
   "outputs": [
    {
     "data": {
      "text/plain": [
       "<AxesSubplot:>"
      ]
     },
     "execution_count": 47,
     "metadata": {},
     "output_type": "execute_result"
    },
    {
     "data": {
      "image/png": "[encoded data removed]",
      "text/plain": [
       "<Figure size 432x288 with 1 Axes>"
      ]
     },
     "metadata": {
      "needs_background": "light"
     },
     "output_type": "display_data"
    }
   ],
   "source": [
    "df.Views.hist(bins=50)"
   ]
  },
  {
   "cell_type": "code",
   "execution_count": null,
   "id": "dca5b200",
   "metadata": {},
   "outputs": [],
   "source": []
  },
  {
   "cell_type": "code",
   "execution_count": 42,
   "id": "7dd2ddf7",
   "metadata": {},
   "outputs": [
    {
     "data": {
      "text/plain": [
       "24276.0"
      ]
     },
     "execution_count": 42,
     "metadata": {},
     "output_type": "execute_result"
    }
   ],
   "source": [
    "IQR3=df.Views.quantile(0.75)-df.Views.quantile(0.25)\n",
    "IQR3"
   ]
  },
  {
   "cell_type": "code",
   "execution_count": 43,
   "id": "8aac6070",
   "metadata": {},
   "outputs": [],
   "source": [
    "Q12=df.Views.quantile(0.25)-(3*IQR3)\n",
    "Q33=df.Views.quantile(0.75)+(3*IQR3)"
   ]
  },
  {
   "cell_type": "code",
   "execution_count": 44,
   "id": "0395b5e7",
   "metadata": {},
   "outputs": [
    {
     "name": "stdout",
     "output_type": "stream",
     "text": [
      "-70234.0 99698.0\n"
     ]
    }
   ],
   "source": [
    "print(Q12,Q33)"
   ]
  },
  {
   "cell_type": "code",
   "execution_count": 45,
   "id": "f37df298",
   "metadata": {},
   "outputs": [],
   "source": [
    "df.loc[df['Views']>99698,'Views'] =99698"
   ]
  },
  {
   "cell_type": "code",
   "execution_count": 46,
   "id": "72e5ceb8",
   "metadata": {},
   "outputs": [
    {
     "data": {
      "text/plain": [
       "<AxesSubplot:>"
      ]
     },
     "execution_count": 46,
     "metadata": {},
     "output_type": "execute_result"
    },
    {
     "data": {
      "image/png": "[encoded data removed]",
      "text/plain": [
       "<Figure size 432x288 with 1 Axes>"
      ]
     },
     "metadata": {
      "needs_background": "light"
     },
     "output_type": "display_data"
    }
   ],
   "source": [
    "df.Answers.hist(bins=50)"
   ]
  },
  {
   "cell_type": "code",
   "execution_count": 48,
   "id": "de02f041",
   "metadata": {},
   "outputs": [
    {
     "data": {
      "text/plain": [
       "3.0"
      ]
     },
     "execution_count": 48,
     "metadata": {},
     "output_type": "execute_result"
    }
   ],
   "source": [
    "IQR4=df.Answers.quantile(0.75)-df.Answers.quantile(0.25)\n",
    "IQR4"
   ]
  },
  {
   "cell_type": "code",
   "execution_count": 49,
   "id": "5f96f168",
   "metadata": {},
   "outputs": [],
   "source": [
    "Q13=df.Answers.quantile(0.25)-(3*IQR4)\n",
    "Q34=df.Answers.quantile(0.75)+(3*IQR4)"
   ]
  },
  {
   "cell_type": "code",
   "execution_count": 50,
   "id": "c67c4ffc",
   "metadata": {},
   "outputs": [
    {
     "name": "stdout",
     "output_type": "stream",
     "text": [
      "-7.0 14.0\n"
     ]
    }
   ],
   "source": [
    "print(Q13,Q34)"
   ]
  },
  {
   "cell_type": "code",
   "execution_count": 51,
   "id": "a2a5b544",
   "metadata": {},
   "outputs": [],
   "source": [
    "df.loc[df['Answers']>14,'Answers'] = 14"
   ]
  },
  {
   "cell_type": "markdown",
   "id": "e3dd3371",
   "metadata": {},
   "source": [
    "# Treat Skewness"
   ]
  },
  {
   "cell_type": "code",
   "execution_count": 52,
   "id": "345201c0",
   "metadata": {},
   "outputs": [],
   "source": [
    "df['Answers']=np.sqrt(df.Answers)\n",
    "df['Views']=np.sqrt(df.Views)\n",
    "df['Upvotes']=np.sqrt(df.Upvotes)"
   ]
  },
  {
   "cell_type": "markdown",
   "id": "668393af",
   "metadata": {},
   "source": [
    "# For Negative Skewness (Square Transformation Method)"
   ]
  },
  {
   "cell_type": "code",
   "execution_count": 53,
   "id": "e55dc134",
   "metadata": {},
   "outputs": [
    {
     "data": {
      "text/plain": [
       "ID           -0.000298\n",
       "Tag           0.337230\n",
       "Reputation    1.661066\n",
       "Answers       0.716192\n",
       "Username      0.142088\n",
       "Views         0.923451\n",
       "Upvotes       1.006788\n",
       "dtype: float64"
      ]
     },
     "execution_count": 53,
     "metadata": {},
     "output_type": "execute_result"
    }
   ],
   "source": [
    "df.skew()"
   ]
  },
  {
   "cell_type": "markdown",
   "id": "64641102",
   "metadata": {},
   "source": [
    "# 1. Linear Regression"
   ]
  },
  {
   "cell_type": "code",
   "execution_count": 54,
   "id": "34e6fd22",
   "metadata": {},
   "outputs": [
    {
     "data": {
      "text/plain": [
       "(330045, 7)"
      ]
     },
     "execution_count": 54,
     "metadata": {},
     "output_type": "execute_result"
    }
   ],
   "source": [
    "df.shape"
   ]
  },
  {
   "cell_type": "code",
   "execution_count": 55,
   "id": "b7f28aea",
   "metadata": {},
   "outputs": [],
   "source": [
    "df_x=df.iloc[:,1:6]\n",
    "df_y=df.iloc[:,-1]"
   ]
  },
  {
   "cell_type": "code",
   "execution_count": 56,
   "id": "a529f551",
   "metadata": {},
   "outputs": [],
   "source": [
    "df_xtrain,df_xtest,df_ytrain,df_ytest=train_test_split(df_x,df_y,test_size=0.2,random_state=101)"
   ]
  },
  {
   "cell_type": "code",
   "execution_count": 57,
   "id": "5f8522a8",
   "metadata": {},
   "outputs": [
    {
     "data": {
      "text/plain": [
       "((264036, 5), (66009, 5), (264036,), (66009,))"
      ]
     },
     "execution_count": 57,
     "metadata": {},
     "output_type": "execute_result"
    }
   ],
   "source": [
    "df_xtrain.shape,df_xtest.shape,df_ytrain.shape,df_ytest.shape"
   ]
  },
  {
   "cell_type": "code",
   "execution_count": 58,
   "id": "54834602",
   "metadata": {},
   "outputs": [
    {
     "data": {
      "text/plain": [
       "LinearRegression()"
      ]
     },
     "execution_count": 58,
     "metadata": {},
     "output_type": "execute_result"
    }
   ],
   "source": [
    "ln.fit(df_xtrain,df_ytrain)"
   ]
  },
  {
   "cell_type": "code",
   "execution_count": 59,
   "id": "b71d16d4",
   "metadata": {},
   "outputs": [],
   "source": [
    "p1=ln.predict(df_xtest)"
   ]
  },
  {
   "cell_type": "code",
   "execution_count": 60,
   "id": "01ca5665",
   "metadata": {},
   "outputs": [
    {
     "data": {
      "text/plain": [
       "0.7513974696226831"
      ]
     },
     "execution_count": 60,
     "metadata": {},
     "output_type": "execute_result"
    }
   ],
   "source": [
    "RSQ1=ln.score(df_xtrain,df_ytrain)\n",
    "RSQ1"
   ]
  },
  {
   "cell_type": "code",
   "execution_count": 61,
   "id": "68a55c55",
   "metadata": {},
   "outputs": [
    {
     "data": {
      "text/plain": [
       "0.7513937033599278"
      ]
     },
     "execution_count": 61,
     "metadata": {},
     "output_type": "execute_result"
    }
   ],
   "source": [
    "ADJRSQ1=1-(((1-RSQ1)*(264036-1))/(264036-4-1))\n",
    "ADJRSQ1"
   ]
  },
  {
   "cell_type": "code",
   "execution_count": 62,
   "id": "c1aafb1c",
   "metadata": {},
   "outputs": [
    {
     "data": {
      "text/plain": [
       "8.994043184433597"
      ]
     },
     "execution_count": 62,
     "metadata": {},
     "output_type": "execute_result"
    }
   ],
   "source": [
    "df_mse1=metrics.mean_squared_error(df_ytest,p1)\n",
    "df_mse1"
   ]
  },
  {
   "cell_type": "code",
   "execution_count": 63,
   "id": "5d578a3c",
   "metadata": {},
   "outputs": [
    {
     "data": {
      "text/plain": [
       "0.7513974696226831"
      ]
     },
     "execution_count": 63,
     "metadata": {},
     "output_type": "execute_result"
    }
   ],
   "source": [
    "ln.score(df_xtrain,df_ytrain)"
   ]
  },
  {
   "cell_type": "markdown",
   "id": "2c39b5ad",
   "metadata": {},
   "source": [
    "# 2. Lasso"
   ]
  },
  {
   "cell_type": "code",
   "execution_count": 64,
   "id": "28c271da",
   "metadata": {},
   "outputs": [],
   "source": [
    "from sklearn.linear_model import Lasso"
   ]
  },
  {
   "cell_type": "code",
   "execution_count": 65,
   "id": "7897b771",
   "metadata": {},
   "outputs": [],
   "source": [
    "l=Lasso()"
   ]
  },
  {
   "cell_type": "code",
   "execution_count": 66,
   "id": "adfb3afe",
   "metadata": {},
   "outputs": [
    {
     "data": {
      "text/plain": [
       "Lasso()"
      ]
     },
     "execution_count": 66,
     "metadata": {},
     "output_type": "execute_result"
    }
   ],
   "source": [
    "l.fit(df_xtrain,df_ytrain)"
   ]
  },
  {
   "cell_type": "code",
   "execution_count": 67,
   "id": "c91740c0",
   "metadata": {},
   "outputs": [
    {
     "data": {
      "text/plain": [
       "array([-0.00000000e+00,  5.67771426e-04,  0.00000000e+00, -1.55095542e-06,\n",
       "        4.12599020e-02])"
      ]
     },
     "execution_count": 67,
     "metadata": {},
     "output_type": "execute_result"
    }
   ],
   "source": [
    "l.coef_"
   ]
  },
  {
   "cell_type": "code",
   "execution_count": 68,
   "id": "9162e251",
   "metadata": {},
   "outputs": [
    {
     "data": {
      "text/plain": [
       "array([13.22002149, 24.33027354,  2.17035445, ...,  3.50157956,\n",
       "        7.98832617,  4.405539  ])"
      ]
     },
     "execution_count": 68,
     "metadata": {},
     "output_type": "execute_result"
    }
   ],
   "source": [
    "pr2=l.predict(df_xtest)\n",
    "pr2"
   ]
  },
  {
   "cell_type": "code",
   "execution_count": 69,
   "id": "675c434b",
   "metadata": {},
   "outputs": [
    {
     "name": "stdout",
     "output_type": "stream",
     "text": [
      "0.7490139996984909\n"
     ]
    }
   ],
   "source": [
    "print(r2_score(df_ytest,pr2))"
   ]
  },
  {
   "cell_type": "code",
   "execution_count": 70,
   "id": "d145e757",
   "metadata": {},
   "outputs": [
    {
     "data": {
      "text/plain": [
       "9.036560781311767"
      ]
     },
     "execution_count": 70,
     "metadata": {},
     "output_type": "execute_result"
    }
   ],
   "source": [
    "df_mse2=metrics.mean_squared_error(df_ytest,pr2)\n",
    "df_mse2"
   ]
  },
  {
   "cell_type": "markdown",
   "id": "877a1c15",
   "metadata": {},
   "source": [
    "# Non Linear Regression Model"
   ]
  },
  {
   "cell_type": "markdown",
   "id": "04e12d48",
   "metadata": {},
   "source": [
    "# 3.XG Boosting"
   ]
  },
  {
   "cell_type": "code",
   "execution_count": 71,
   "id": "f31fa456",
   "metadata": {},
   "outputs": [],
   "source": [
    "from xgboost import XGBRFRegressor\n",
    "xgb = XGBRFRegressor()"
   ]
  },
  {
   "cell_type": "code",
   "execution_count": 72,
   "id": "a4fef093",
   "metadata": {},
   "outputs": [
    {
     "data": {
      "text/plain": [
       "XGBRFRegressor(base_score=0.5, booster='gbtree', callbacks=None,\n",
       "               colsample_bylevel=1, colsample_bytree=1,\n",
       "               early_stopping_rounds=None, enable_categorical=False,\n",
       "               eval_metric=None, gamma=0, gpu_id=-1, grow_policy='depthwise',\n",
       "               importance_type=None, interaction_constraints='', max_bin=256,\n",
       "               max_cat_to_onehot=4, max_delta_step=0, max_depth=6, max_leaves=0,\n",
       "               min_child_weight=1, missing=nan, monotone_constraints='()',\n",
       "               n_estimators=100, n_jobs=0, num_parallel_tree=100,\n",
       "               objective='reg:squarederror', predictor='auto', random_state=0,\n",
       "               reg_alpha=0, sampling_method='uniform', scale_pos_weight=1, ...)"
      ]
     },
     "execution_count": 72,
     "metadata": {},
     "output_type": "execute_result"
    }
   ],
   "source": [
    "xgb.fit(df_xtrain,df_ytrain)"
   ]
  },
  {
   "cell_type": "code",
   "execution_count": 73,
   "id": "f0e17c49",
   "metadata": {},
   "outputs": [
    {
     "data": {
      "text/plain": [
       "array([14.961753 , 20.03862  ,  2.8233383, ...,  3.5192564,  9.8528185,\n",
       "        4.228319 ], dtype=float32)"
      ]
     },
     "execution_count": 73,
     "metadata": {},
     "output_type": "execute_result"
    }
   ],
   "source": [
    "pr3=xgb.predict(df_xtest)\n",
    "pr3"
   ]
  },
  {
   "cell_type": "code",
   "execution_count": 74,
   "id": "3a48b0e8",
   "metadata": {},
   "outputs": [
    {
     "data": {
      "text/plain": [
       "0.8620461179654936"
      ]
     },
     "execution_count": 74,
     "metadata": {},
     "output_type": "execute_result"
    }
   ],
   "source": [
    "rsq_xg=xgb.score(df_xtrain,df_ytrain)\n",
    "rsq_xg"
   ]
  },
  {
   "cell_type": "code",
   "execution_count": 75,
   "id": "c56f1766",
   "metadata": {},
   "outputs": [
    {
     "data": {
      "text/plain": [
       "0.8620435054994474"
      ]
     },
     "execution_count": 75,
     "metadata": {},
     "output_type": "execute_result"
    }
   ],
   "source": [
    "adj_xg=1-(((1-rsq_xg)*(264036-1))/(264036-5-1))\n",
    "adj_xg"
   ]
  },
  {
   "cell_type": "code",
   "execution_count": 76,
   "id": "4bb1950b",
   "metadata": {},
   "outputs": [
    {
     "data": {
      "text/plain": [
       "5.116777105994776"
      ]
     },
     "execution_count": 76,
     "metadata": {},
     "output_type": "execute_result"
    }
   ],
   "source": [
    "df_mse_xg=metrics.mean_squared_error(df_ytest,pr3)\n",
    "df_mse_xg"
   ]
  },
  {
   "cell_type": "markdown",
   "id": "59d9c74c",
   "metadata": {},
   "source": [
    "# 4.K-Nearest Neighbor Regression"
   ]
  },
  {
   "cell_type": "code",
   "execution_count": 77,
   "id": "e05c5a0b",
   "metadata": {},
   "outputs": [],
   "source": [
    "from sklearn.neighbors import KNeighborsRegressor\n",
    "knn =  KNeighborsRegressor(n_neighbors = 10)"
   ]
  },
  {
   "cell_type": "code",
   "execution_count": 78,
   "id": "c5304b1a",
   "metadata": {},
   "outputs": [
    {
     "data": {
      "text/plain": [
       "KNeighborsRegressor(n_neighbors=10)"
      ]
     },
     "execution_count": 78,
     "metadata": {},
     "output_type": "execute_result"
    }
   ],
   "source": [
    "knn.fit(df_xtrain,df_ytrain)"
   ]
  },
  {
   "cell_type": "code",
   "execution_count": 81,
   "id": "73aac597",
   "metadata": {},
   "outputs": [],
   "source": [
    "pr4=knn.predict(df_xtest)"
   ]
  },
  {
   "cell_type": "code",
   "execution_count": 82,
   "id": "d3a789e9",
   "metadata": {},
   "outputs": [
    {
     "data": {
      "text/plain": [
       "0.7452169555181265"
      ]
     },
     "execution_count": 82,
     "metadata": {},
     "output_type": "execute_result"
    }
   ],
   "source": [
    "RSQ4=knn.score(df_xtrain,df_ytrain)\n",
    "RSQ4"
   ]
  },
  {
   "cell_type": "code",
   "execution_count": 83,
   "id": "f0e14b93",
   "metadata": {},
   "outputs": [
    {
     "data": {
      "text/plain": [
       "0.7452121306299607"
      ]
     },
     "execution_count": 83,
     "metadata": {},
     "output_type": "execute_result"
    }
   ],
   "source": [
    "adj_knn=1-(((1-RSQ4)*(264036-1))/(264036-5-1))\n",
    "adj_knn"
   ]
  },
  {
   "cell_type": "code",
   "execution_count": 84,
   "id": "e1001c30",
   "metadata": {},
   "outputs": [
    {
     "data": {
      "text/plain": [
       "11.620438041010932"
      ]
     },
     "execution_count": 84,
     "metadata": {},
     "output_type": "execute_result"
    }
   ],
   "source": [
    "df_mse_knn=metrics.mean_squared_error(df_ytest,pr4)\n",
    "df_mse_knn"
   ]
  },
  {
   "cell_type": "code",
   "execution_count": 85,
   "id": "3d741821",
   "metadata": {},
   "outputs": [],
   "source": [
    "error1=df_ytest-pr4\n",
    "aerror1=np.abs(error1)"
   ]
  },
  {
   "cell_type": "code",
   "execution_count": 86,
   "id": "1885974a",
   "metadata": {},
   "outputs": [
    {
     "data": {
      "text/plain": [
       "inf"
      ]
     },
     "execution_count": 86,
     "metadata": {},
     "output_type": "execute_result"
    }
   ],
   "source": [
    "MAPE1=np.mean(aerror1/df_ytest)*100\n",
    "MAPE1"
   ]
  },
  {
   "cell_type": "markdown",
   "id": "2cd8dd8d",
   "metadata": {},
   "source": [
    "# Predicton on Test Data"
   ]
  },
  {
   "cell_type": "code",
   "execution_count": 96,
   "id": "59ca939d",
   "metadata": {},
   "outputs": [
    {
     "data": {
      "text/html": [
       "<div>\n",
       "<style scoped>\n",
       "    .dataframe tbody tr th:only-of-type {\n",
       "        vertical-align: middle;\n",
       "    }\n",
       "\n",
       "    .dataframe tbody tr th {\n",
       "        vertical-align: top;\n",
       "    }\n",
       "\n",
       "    .dataframe thead th {\n",
       "        text-align: right;\n",
       "    }\n",
       "</style>\n",
       "<table border=\"1\" class=\"dataframe\">\n",
       "  <thead>\n",
       "    <tr style=\"text-align: right;\">\n",
       "      <th></th>\n",
       "      <th>ID</th>\n",
       "      <th>Tag</th>\n",
       "      <th>Reputation</th>\n",
       "      <th>Answers</th>\n",
       "      <th>Username</th>\n",
       "      <th>Views</th>\n",
       "    </tr>\n",
       "  </thead>\n",
       "  <tbody>\n",
       "    <tr>\n",
       "      <th>0</th>\n",
       "      <td>366953</td>\n",
       "      <td>0</td>\n",
       "      <td>5645.0</td>\n",
       "      <td>3.0</td>\n",
       "      <td>50652</td>\n",
       "      <td>33200.0</td>\n",
       "    </tr>\n",
       "    <tr>\n",
       "      <th>1</th>\n",
       "      <td>71864</td>\n",
       "      <td>1</td>\n",
       "      <td>24511.0</td>\n",
       "      <td>6.0</td>\n",
       "      <td>37685</td>\n",
       "      <td>2730.0</td>\n",
       "    </tr>\n",
       "    <tr>\n",
       "      <th>2</th>\n",
       "      <td>141692</td>\n",
       "      <td>3</td>\n",
       "      <td>927.0</td>\n",
       "      <td>1.0</td>\n",
       "      <td>135293</td>\n",
       "      <td>21167.0</td>\n",
       "    </tr>\n",
       "  </tbody>\n",
       "</table>\n",
       "</div>"
      ],
      "text/plain": [
       "       ID  Tag  Reputation  Answers  Username    Views\n",
       "0  366953    0      5645.0      3.0     50652  33200.0\n",
       "1   71864    1     24511.0      6.0     37685   2730.0\n",
       "2  141692    3       927.0      1.0    135293  21167.0"
      ]
     },
     "execution_count": 96,
     "metadata": {},
     "output_type": "execute_result"
    }
   ],
   "source": [
    "test.head(3)"
   ]
  },
  {
   "cell_type": "code",
   "execution_count": 135,
   "id": "58ffe7c6",
   "metadata": {},
   "outputs": [
    {
     "data": {
      "text/html": [
       "<div>\n",
       "<style scoped>\n",
       "    .dataframe tbody tr th:only-of-type {\n",
       "        vertical-align: middle;\n",
       "    }\n",
       "\n",
       "    .dataframe tbody tr th {\n",
       "        vertical-align: top;\n",
       "    }\n",
       "\n",
       "    .dataframe thead th {\n",
       "        text-align: right;\n",
       "    }\n",
       "</style>\n",
       "<table border=\"1\" class=\"dataframe\">\n",
       "  <thead>\n",
       "    <tr style=\"text-align: right;\">\n",
       "      <th></th>\n",
       "      <th>Tag</th>\n",
       "      <th>Reputation</th>\n",
       "      <th>Answers</th>\n",
       "      <th>Username</th>\n",
       "      <th>Views</th>\n",
       "    </tr>\n",
       "  </thead>\n",
       "  <tbody>\n",
       "    <tr>\n",
       "      <th>0</th>\n",
       "      <td>0</td>\n",
       "      <td>5645.0</td>\n",
       "      <td>3.0</td>\n",
       "      <td>50652</td>\n",
       "      <td>33200.0</td>\n",
       "    </tr>\n",
       "    <tr>\n",
       "      <th>1</th>\n",
       "      <td>1</td>\n",
       "      <td>19629.0</td>\n",
       "      <td>6.0</td>\n",
       "      <td>37685</td>\n",
       "      <td>2730.0</td>\n",
       "    </tr>\n",
       "    <tr>\n",
       "      <th>2</th>\n",
       "      <td>3</td>\n",
       "      <td>927.0</td>\n",
       "      <td>1.0</td>\n",
       "      <td>135293</td>\n",
       "      <td>21167.0</td>\n",
       "    </tr>\n",
       "    <tr>\n",
       "      <th>3</th>\n",
       "      <td>3</td>\n",
       "      <td>21.0</td>\n",
       "      <td>6.0</td>\n",
       "      <td>166998</td>\n",
       "      <td>18528.0</td>\n",
       "    </tr>\n",
       "    <tr>\n",
       "      <th>4</th>\n",
       "      <td>3</td>\n",
       "      <td>4475.0</td>\n",
       "      <td>10.0</td>\n",
       "      <td>53504</td>\n",
       "      <td>57240.0</td>\n",
       "    </tr>\n",
       "    <tr>\n",
       "      <th>...</th>\n",
       "      <td>...</td>\n",
       "      <td>...</td>\n",
       "      <td>...</td>\n",
       "      <td>...</td>\n",
       "      <td>...</td>\n",
       "    </tr>\n",
       "    <tr>\n",
       "      <th>141443</th>\n",
       "      <td>4</td>\n",
       "      <td>4681.0</td>\n",
       "      <td>4.0</td>\n",
       "      <td>152060</td>\n",
       "      <td>2469.0</td>\n",
       "    </tr>\n",
       "    <tr>\n",
       "      <th>141444</th>\n",
       "      <td>4</td>\n",
       "      <td>7782.0</td>\n",
       "      <td>3.0</td>\n",
       "      <td>89235</td>\n",
       "      <td>18998.0</td>\n",
       "    </tr>\n",
       "    <tr>\n",
       "      <th>141445</th>\n",
       "      <td>6</td>\n",
       "      <td>435.0</td>\n",
       "      <td>5.0</td>\n",
       "      <td>119788</td>\n",
       "      <td>57048.0</td>\n",
       "    </tr>\n",
       "    <tr>\n",
       "      <th>141446</th>\n",
       "      <td>5</td>\n",
       "      <td>176.0</td>\n",
       "      <td>3.0</td>\n",
       "      <td>86824</td>\n",
       "      <td>10193.0</td>\n",
       "    </tr>\n",
       "    <tr>\n",
       "      <th>141447</th>\n",
       "      <td>0</td>\n",
       "      <td>648.0</td>\n",
       "      <td>2.0</td>\n",
       "      <td>102240</td>\n",
       "      <td>12785.0</td>\n",
       "    </tr>\n",
       "  </tbody>\n",
       "</table>\n",
       "<p>141448 rows × 5 columns</p>\n",
       "</div>"
      ],
      "text/plain": [
       "        Tag  Reputation  Answers  Username    Views\n",
       "0         0      5645.0      3.0     50652  33200.0\n",
       "1         1     19629.0      6.0     37685   2730.0\n",
       "2         3       927.0      1.0    135293  21167.0\n",
       "3         3        21.0      6.0    166998  18528.0\n",
       "4         3      4475.0     10.0     53504  57240.0\n",
       "...     ...         ...      ...       ...      ...\n",
       "141443    4      4681.0      4.0    152060   2469.0\n",
       "141444    4      7782.0      3.0     89235  18998.0\n",
       "141445    6       435.0      5.0    119788  57048.0\n",
       "141446    5       176.0      3.0     86824  10193.0\n",
       "141447    0       648.0      2.0    102240  12785.0\n",
       "\n",
       "[141448 rows x 5 columns]"
      ]
     },
     "execution_count": 135,
     "metadata": {},
     "output_type": "execute_result"
    }
   ],
   "source": [
    "test_x"
   ]
  },
  {
   "cell_type": "code",
   "execution_count": 136,
   "id": "4c0c6643",
   "metadata": {},
   "outputs": [],
   "source": [
    "pr_test=knn.predict(test_x)"
   ]
  },
  {
   "cell_type": "code",
   "execution_count": 137,
   "id": "7487e1f7",
   "metadata": {},
   "outputs": [],
   "source": [
    "sub=pd.DataFrame({'ID':test['ID'],'Upvotes':pr_test})"
   ]
  },
  {
   "cell_type": "code",
   "execution_count": 139,
   "id": "cb479cf9",
   "metadata": {},
   "outputs": [],
   "source": [
    "#sub.to_csv('Upvote_Prediction_Pro1.csv',index=True)"
   ]
  },
  {
   "cell_type": "code",
   "execution_count": 104,
   "id": "4b45da17",
   "metadata": {},
   "outputs": [
    {
     "data": {
      "text/plain": [
       "ID      Upvotes  \n",
       "7       18.289312    1\n",
       "314279  6.128151     1\n",
       "314261  18.834279    1\n",
       "314263  5.058250     1\n",
       "314265  4.438911     1\n",
       "                    ..\n",
       "157009  19.968606    1\n",
       "157007  8.755845     1\n",
       "157005  6.732985     1\n",
       "157004  7.971438     1\n",
       "471488  12.003052    1\n",
       "Length: 141448, dtype: int64"
      ]
     },
     "execution_count": 104,
     "metadata": {},
     "output_type": "execute_result"
    }
   ],
   "source": [
    "sub.value_counts()"
   ]
  },
  {
   "cell_type": "code",
   "execution_count": 134,
   "id": "b781dcdd",
   "metadata": {},
   "outputs": [
    {
     "data": {
      "text/plain": [
       "Tag           0.332509\n",
       "Reputation    1.652990\n",
       "Answers       1.251327\n",
       "Username      0.147448\n",
       "Views         1.721822\n",
       "dtype: float64"
      ]
     },
     "execution_count": 134,
     "metadata": {},
     "output_type": "execute_result"
    }
   ],
   "source": [
    "test_x.skew()"
   ]
  },
  {
   "cell_type": "code",
   "execution_count": 115,
   "id": "b0cac1d3",
   "metadata": {},
   "outputs": [
    {
     "data": {
      "text/plain": [
       "<AxesSubplot:>"
      ]
     },
     "execution_count": 115,
     "metadata": {},
     "output_type": "execute_result"
    },
    {
     "data": {
      "image/png": "[encoded data removed]",
      "text/plain": [
       "<Figure size 432x288 with 1 Axes>"
      ]
     },
     "metadata": {
      "needs_background": "light"
     },
     "output_type": "display_data"
    }
   ],
   "source": [
    "test_x.Reputation.hist(bins=50)"
   ]
  },
  {
   "cell_type": "code",
   "execution_count": 107,
   "id": "20e9a36d",
   "metadata": {},
   "outputs": [
    {
     "data": {
      "text/plain": [
       "count    1.414480e+05\n",
       "mean     7.920927e+03\n",
       "std      2.791072e+04\n",
       "min      0.000000e+00\n",
       "25%      2.860000e+02\n",
       "50%      1.245000e+03\n",
       "75%      5.123000e+03\n",
       "max      1.042428e+06\n",
       "Name: Reputation, dtype: float64"
      ]
     },
     "execution_count": 107,
     "metadata": {},
     "output_type": "execute_result"
    }
   ],
   "source": [
    "test_x.Reputation.describe()"
   ]
  },
  {
   "cell_type": "code",
   "execution_count": 108,
   "id": "b8290e84",
   "metadata": {},
   "outputs": [
    {
     "data": {
      "text/plain": [
       "4837.0"
      ]
     },
     "execution_count": 108,
     "metadata": {},
     "output_type": "execute_result"
    }
   ],
   "source": [
    "IQR1_test=test.Reputation.quantile(0.75)-test.Reputation.quantile(0.25)\n",
    "IQR1_test"
   ]
  },
  {
   "cell_type": "code",
   "execution_count": 109,
   "id": "2b190a5a",
   "metadata": {},
   "outputs": [],
   "source": [
    "Q1=df.Reputation.quantile(0.25)-(3*IQR1_test)\n",
    "Q3=df.Reputation.quantile(0.75)+(3*IQR1_test)"
   ]
  },
  {
   "cell_type": "code",
   "execution_count": 110,
   "id": "0c8dbe90",
   "metadata": {},
   "outputs": [
    {
     "name": "stdout",
     "output_type": "stream",
     "text": [
      "-14229.0 19629.0\n"
     ]
    }
   ],
   "source": [
    "print(Q1,Q3)"
   ]
  },
  {
   "cell_type": "code",
   "execution_count": 114,
   "id": "5b7e39bc",
   "metadata": {},
   "outputs": [],
   "source": [
    "test_x.loc[test_x['Reputation']>19629,'Reputation'] =19629"
   ]
  },
  {
   "cell_type": "code",
   "execution_count": 122,
   "id": "546a8acb",
   "metadata": {},
   "outputs": [
    {
     "data": {
      "text/plain": [
       "<AxesSubplot:>"
      ]
     },
     "execution_count": 122,
     "metadata": {},
     "output_type": "execute_result"
    },
    {
     "data": {
      "image/png": "[encoded data removed]",
      "text/plain": [
       "<Figure size 432x288 with 1 Axes>"
      ]
     },
     "metadata": {
      "needs_background": "light"
     },
     "output_type": "display_data"
    }
   ],
   "source": [
    "test_x.Views.hist(bins=50)"
   ]
  },
  {
   "cell_type": "code",
   "execution_count": 118,
   "id": "51141746",
   "metadata": {},
   "outputs": [
    {
     "data": {
      "text/plain": [
       "24381.25"
      ]
     },
     "execution_count": 118,
     "metadata": {},
     "output_type": "execute_result"
    }
   ],
   "source": [
    "IQR2_test=test_x.Views.quantile(0.75)-test_x.Views.quantile(0.25)\n",
    "IQR2_test"
   ]
  },
  {
   "cell_type": "code",
   "execution_count": 119,
   "id": "87385d2e",
   "metadata": {},
   "outputs": [],
   "source": [
    "Q1=test_x.Views.quantile(0.25)-(3*IQR3)\n",
    "Q3=test_x.Views.quantile(0.75)+(3*IQR3)"
   ]
  },
  {
   "cell_type": "code",
   "execution_count": 120,
   "id": "b8fed76b",
   "metadata": {},
   "outputs": [
    {
     "name": "stdout",
     "output_type": "stream",
     "text": [
      "-70220.0 99817.25\n"
     ]
    }
   ],
   "source": [
    "print(Q1,Q3)"
   ]
  },
  {
   "cell_type": "code",
   "execution_count": 121,
   "id": "47497404",
   "metadata": {},
   "outputs": [],
   "source": [
    "test_x.loc[test_x['Views']>99817.25,'Views'] =99817.25"
   ]
  },
  {
   "cell_type": "code",
   "execution_count": 133,
   "id": "353ac7aa",
   "metadata": {},
   "outputs": [
    {
     "data": {
      "text/plain": [
       "<AxesSubplot:>"
      ]
     },
     "execution_count": 133,
     "metadata": {},
     "output_type": "execute_result"
    },
    {
     "data": {
      "image/png": "[encoded data removed]",
      "text/plain": [
       "<Figure size 432x288 with 1 Axes>"
      ]
     },
     "metadata": {
      "needs_background": "light"
     },
     "output_type": "display_data"
    }
   ],
   "source": [
    "test_x.Answers.hist(bins=50)"
   ]
  },
  {
   "cell_type": "code",
   "execution_count": 129,
   "id": "35323a83",
   "metadata": {},
   "outputs": [
    {
     "data": {
      "text/plain": [
       "3.0"
      ]
     },
     "execution_count": 129,
     "metadata": {},
     "output_type": "execute_result"
    }
   ],
   "source": [
    "IQR3_test=test_x.Answers.quantile(0.75)-test_x.Answers.quantile(0.25)\n",
    "IQR3_test"
   ]
  },
  {
   "cell_type": "code",
   "execution_count": 130,
   "id": "9053cb6a",
   "metadata": {},
   "outputs": [],
   "source": [
    "Q1=df.Answers.quantile(0.25)-(3*IQR3_test)\n",
    "Q3=df.Answers.quantile(0.75)+(3*IQR3_test)"
   ]
  },
  {
   "cell_type": "code",
   "execution_count": 131,
   "id": "93a2f0ef",
   "metadata": {},
   "outputs": [
    {
     "name": "stdout",
     "output_type": "stream",
     "text": [
      "-7.585786437626905 11.23606797749979\n"
     ]
    }
   ],
   "source": [
    "print(Q1,Q3)"
   ]
  },
  {
   "cell_type": "code",
   "execution_count": 132,
   "id": "9f1f1d1f",
   "metadata": {},
   "outputs": [],
   "source": [
    "test_x.loc[test_x['Answers']>11.236,'Answers'] = 11.236"
   ]
  },
  {
   "cell_type": "code",
   "execution_count": 140,
   "id": "02e438d0",
   "metadata": {},
   "outputs": [
    {
     "data": {
      "text/html": [
       "<div>\n",
       "<style scoped>\n",
       "    .dataframe tbody tr th:only-of-type {\n",
       "        vertical-align: middle;\n",
       "    }\n",
       "\n",
       "    .dataframe tbody tr th {\n",
       "        vertical-align: top;\n",
       "    }\n",
       "\n",
       "    .dataframe thead th {\n",
       "        text-align: right;\n",
       "    }\n",
       "</style>\n",
       "<table border=\"1\" class=\"dataframe\">\n",
       "  <thead>\n",
       "    <tr style=\"text-align: right;\">\n",
       "      <th></th>\n",
       "      <th>ID</th>\n",
       "      <th>Upvotes</th>\n",
       "    </tr>\n",
       "  </thead>\n",
       "  <tbody>\n",
       "    <tr>\n",
       "      <th>0</th>\n",
       "      <td>366953</td>\n",
       "      <td>19.012322</td>\n",
       "    </tr>\n",
       "    <tr>\n",
       "      <th>1</th>\n",
       "      <td>71864</td>\n",
       "      <td>20.099751</td>\n",
       "    </tr>\n",
       "    <tr>\n",
       "      <th>2</th>\n",
       "      <td>141692</td>\n",
       "      <td>13.590008</td>\n",
       "    </tr>\n",
       "    <tr>\n",
       "      <th>3</th>\n",
       "      <td>316833</td>\n",
       "      <td>6.613783</td>\n",
       "    </tr>\n",
       "    <tr>\n",
       "      <th>4</th>\n",
       "      <td>440445</td>\n",
       "      <td>19.120392</td>\n",
       "    </tr>\n",
       "    <tr>\n",
       "      <th>...</th>\n",
       "      <td>...</td>\n",
       "      <td>...</td>\n",
       "    </tr>\n",
       "    <tr>\n",
       "      <th>141443</th>\n",
       "      <td>47187</td>\n",
       "      <td>19.587287</td>\n",
       "    </tr>\n",
       "    <tr>\n",
       "      <th>141444</th>\n",
       "      <td>329126</td>\n",
       "      <td>20.099751</td>\n",
       "    </tr>\n",
       "    <tr>\n",
       "      <th>141445</th>\n",
       "      <td>282334</td>\n",
       "      <td>9.643324</td>\n",
       "    </tr>\n",
       "    <tr>\n",
       "      <th>141446</th>\n",
       "      <td>386629</td>\n",
       "      <td>9.561035</td>\n",
       "    </tr>\n",
       "    <tr>\n",
       "      <th>141447</th>\n",
       "      <td>107271</td>\n",
       "      <td>12.302224</td>\n",
       "    </tr>\n",
       "  </tbody>\n",
       "</table>\n",
       "<p>141448 rows × 2 columns</p>\n",
       "</div>"
      ],
      "text/plain": [
       "            ID    Upvotes\n",
       "0       366953  19.012322\n",
       "1        71864  20.099751\n",
       "2       141692  13.590008\n",
       "3       316833   6.613783\n",
       "4       440445  19.120392\n",
       "...        ...        ...\n",
       "141443   47187  19.587287\n",
       "141444  329126  20.099751\n",
       "141445  282334   9.643324\n",
       "141446  386629   9.561035\n",
       "141447  107271  12.302224\n",
       "\n",
       "[141448 rows x 2 columns]"
      ]
     },
     "execution_count": 140,
     "metadata": {},
     "output_type": "execute_result"
    }
   ],
   "source": [
    "sub"
   ]
  },
  {
   "cell_type": "code",
   "execution_count": null,
   "id": "3dfe8b09",
   "metadata": {},
   "outputs": [],
   "source": []
  }
 ],
 "metadata": {
  "kernelspec": {
   "display_name": "Python 3 (ipykernel)",
   "language": "python",
   "name": "python3"
  },
  "language_info": {
   "codemirror_mode": {
    "name": "ipython",
    "version": 3
   },
   "file_extension": ".py",
   "mimetype": "text/x-python",
   "name": "python",
   "nbconvert_exporter": "python",
   "pygments_lexer": "ipython3",
   "version": "3.9.7"
  }
 },
 "nbformat": 4,
 "nbformat_minor": 5
}
